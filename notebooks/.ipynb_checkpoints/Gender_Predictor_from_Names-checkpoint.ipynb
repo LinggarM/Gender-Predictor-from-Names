{
 "cells": [
  {
   "cell_type": "markdown",
   "metadata": {
    "id": "F8EPLctslNFp"
   },
   "source": [
    "# Import Dependencies"
   ]
  },
  {
   "cell_type": "code",
   "execution_count": 1,
   "metadata": {
    "id": "jcPzZy2tU1H8"
   },
   "outputs": [],
   "source": [
    "import pandas as pd\n",
    "import matplotlib.pyplot as plt\n",
    "import seaborn as sns\n",
    "from sklearn.feature_extraction.text import TfidfVectorizer\n",
    "from sklearn.preprocessing import LabelEncoder\n",
    "from sklearn.model_selection import train_test_split, GridSearchCV\n",
    "from sklearn.ensemble import RandomForestClassifier\n",
    "from sklearn.linear_model import LogisticRegression\n",
    "from sklearn.svm import SVC\n",
    "from sklearn.metrics import accuracy_score\n",
    "from sklearn.naive_bayes import MultinomialNB\n",
    "import joblib"
   ]
  },
  {
   "cell_type": "markdown",
   "metadata": {
    "id": "6PKRECLUlQmP"
   },
   "source": [
    "# Import Data"
   ]
  },
  {
   "cell_type": "code",
   "execution_count": 2,
   "metadata": {
    "colab": {
     "base_uri": "https://localhost:8080/",
     "height": 424
    },
    "id": "vBcRpr__VUto",
    "outputId": "ef3349b2-511a-4ae0-f86b-ff78796386f7"
   },
   "outputs": [
    {
     "data": {
      "text/html": [
       "<div>\n",
       "<style scoped>\n",
       "    .dataframe tbody tr th:only-of-type {\n",
       "        vertical-align: middle;\n",
       "    }\n",
       "\n",
       "    .dataframe tbody tr th {\n",
       "        vertical-align: top;\n",
       "    }\n",
       "\n",
       "    .dataframe thead th {\n",
       "        text-align: right;\n",
       "    }\n",
       "</style>\n",
       "<table border=\"1\" class=\"dataframe\">\n",
       "  <thead>\n",
       "    <tr style=\"text-align: right;\">\n",
       "      <th></th>\n",
       "      <th>name</th>\n",
       "      <th>gender</th>\n",
       "    </tr>\n",
       "  </thead>\n",
       "  <tbody>\n",
       "    <tr>\n",
       "      <th>0</th>\n",
       "      <td>hafizhan shidqi</td>\n",
       "      <td>m</td>\n",
       "    </tr>\n",
       "    <tr>\n",
       "      <th>1</th>\n",
       "      <td>gandhi wibowo</td>\n",
       "      <td>m</td>\n",
       "    </tr>\n",
       "    <tr>\n",
       "      <th>2</th>\n",
       "      <td>aldio mahendra purwandrarto</td>\n",
       "      <td>m</td>\n",
       "    </tr>\n",
       "    <tr>\n",
       "      <th>3</th>\n",
       "      <td>benny putra</td>\n",
       "      <td>m</td>\n",
       "    </tr>\n",
       "    <tr>\n",
       "      <th>4</th>\n",
       "      <td>vicky vernando dasta</td>\n",
       "      <td>m</td>\n",
       "    </tr>\n",
       "    <tr>\n",
       "      <th>...</th>\n",
       "      <td>...</td>\n",
       "      <td>...</td>\n",
       "    </tr>\n",
       "    <tr>\n",
       "      <th>1955</th>\n",
       "      <td>hadimah</td>\n",
       "      <td>f</td>\n",
       "    </tr>\n",
       "    <tr>\n",
       "      <th>1956</th>\n",
       "      <td>aprillia rahma wati</td>\n",
       "      <td>f</td>\n",
       "    </tr>\n",
       "    <tr>\n",
       "      <th>1957</th>\n",
       "      <td>muhamad khoirunisa. m</td>\n",
       "      <td>m</td>\n",
       "    </tr>\n",
       "    <tr>\n",
       "      <th>1958</th>\n",
       "      <td>sukandi</td>\n",
       "      <td>m</td>\n",
       "    </tr>\n",
       "    <tr>\n",
       "      <th>1959</th>\n",
       "      <td>eem</td>\n",
       "      <td>f</td>\n",
       "    </tr>\n",
       "  </tbody>\n",
       "</table>\n",
       "<p>1960 rows × 2 columns</p>\n",
       "</div>"
      ],
      "text/plain": [
       "                             name gender\n",
       "0                 hafizhan shidqi      m\n",
       "1                   gandhi wibowo      m\n",
       "2     aldio mahendra purwandrarto      m\n",
       "3                     benny putra      m\n",
       "4            vicky vernando dasta      m\n",
       "...                           ...    ...\n",
       "1955                      hadimah      f\n",
       "1956          aprillia rahma wati      f\n",
       "1957        muhamad khoirunisa. m      m\n",
       "1958                      sukandi      m\n",
       "1959                          eem      f\n",
       "\n",
       "[1960 rows x 2 columns]"
      ]
     },
     "execution_count": 2,
     "metadata": {},
     "output_type": "execute_result"
    }
   ],
   "source": [
    "df = pd.read_csv(\"../data/indonesian-names.csv\")\n",
    "df"
   ]
  },
  {
   "cell_type": "code",
   "execution_count": 3,
   "metadata": {
    "colab": {
     "base_uri": "https://localhost:8080/"
    },
    "id": "w_vrs-gvVY9m",
    "outputId": "6ddd2edc-8bde-49d0-adbc-46287eabf043"
   },
   "outputs": [
    {
     "name": "stdout",
     "output_type": "stream",
     "text": [
      "<class 'pandas.core.frame.DataFrame'>\n",
      "RangeIndex: 1960 entries, 0 to 1959\n",
      "Data columns (total 2 columns):\n",
      " #   Column  Non-Null Count  Dtype \n",
      "---  ------  --------------  ----- \n",
      " 0   name    1960 non-null   object\n",
      " 1   gender  1960 non-null   object\n",
      "dtypes: object(2)\n",
      "memory usage: 30.8+ KB\n"
     ]
    }
   ],
   "source": [
    "df.info()"
   ]
  },
  {
   "cell_type": "code",
   "execution_count": 4,
   "metadata": {
    "colab": {
     "base_uri": "https://localhost:8080/",
     "height": 175
    },
    "id": "JkRAGYHpVeEt",
    "outputId": "54d0f21e-ef17-4b05-84f6-8a125a168e91"
   },
   "outputs": [
    {
     "data": {
      "text/html": [
       "<div>\n",
       "<style scoped>\n",
       "    .dataframe tbody tr th:only-of-type {\n",
       "        vertical-align: middle;\n",
       "    }\n",
       "\n",
       "    .dataframe tbody tr th {\n",
       "        vertical-align: top;\n",
       "    }\n",
       "\n",
       "    .dataframe thead th {\n",
       "        text-align: right;\n",
       "    }\n",
       "</style>\n",
       "<table border=\"1\" class=\"dataframe\">\n",
       "  <thead>\n",
       "    <tr style=\"text-align: right;\">\n",
       "      <th></th>\n",
       "      <th>name</th>\n",
       "      <th>gender</th>\n",
       "    </tr>\n",
       "  </thead>\n",
       "  <tbody>\n",
       "    <tr>\n",
       "      <th>count</th>\n",
       "      <td>1960</td>\n",
       "      <td>1960</td>\n",
       "    </tr>\n",
       "    <tr>\n",
       "      <th>unique</th>\n",
       "      <td>1795</td>\n",
       "      <td>2</td>\n",
       "    </tr>\n",
       "    <tr>\n",
       "      <th>top</th>\n",
       "      <td>slamet</td>\n",
       "      <td>m</td>\n",
       "    </tr>\n",
       "    <tr>\n",
       "      <th>freq</th>\n",
       "      <td>6</td>\n",
       "      <td>1094</td>\n",
       "    </tr>\n",
       "  </tbody>\n",
       "</table>\n",
       "</div>"
      ],
      "text/plain": [
       "          name gender\n",
       "count     1960   1960\n",
       "unique    1795      2\n",
       "top     slamet      m\n",
       "freq         6   1094"
      ]
     },
     "execution_count": 4,
     "metadata": {},
     "output_type": "execute_result"
    }
   ],
   "source": [
    "df.describe()"
   ]
  },
  {
   "cell_type": "markdown",
   "metadata": {
    "id": "Ddi7sDPslUio"
   },
   "source": [
    "# Data Cleaning"
   ]
  },
  {
   "cell_type": "code",
   "execution_count": 5,
   "metadata": {
    "id": "50KokwpfVe29"
   },
   "outputs": [],
   "source": [
    "df = df.drop_duplicates(subset = \"name\")"
   ]
  },
  {
   "cell_type": "code",
   "execution_count": 6,
   "metadata": {
    "colab": {
     "base_uri": "https://localhost:8080/",
     "height": 175
    },
    "id": "l1OCdLQlVqn-",
    "outputId": "35ad9925-930c-417d-8755-4036a2e963fe"
   },
   "outputs": [
    {
     "data": {
      "text/html": [
       "<div>\n",
       "<style scoped>\n",
       "    .dataframe tbody tr th:only-of-type {\n",
       "        vertical-align: middle;\n",
       "    }\n",
       "\n",
       "    .dataframe tbody tr th {\n",
       "        vertical-align: top;\n",
       "    }\n",
       "\n",
       "    .dataframe thead th {\n",
       "        text-align: right;\n",
       "    }\n",
       "</style>\n",
       "<table border=\"1\" class=\"dataframe\">\n",
       "  <thead>\n",
       "    <tr style=\"text-align: right;\">\n",
       "      <th></th>\n",
       "      <th>name</th>\n",
       "      <th>gender</th>\n",
       "    </tr>\n",
       "  </thead>\n",
       "  <tbody>\n",
       "    <tr>\n",
       "      <th>count</th>\n",
       "      <td>1795</td>\n",
       "      <td>1795</td>\n",
       "    </tr>\n",
       "    <tr>\n",
       "      <th>unique</th>\n",
       "      <td>1795</td>\n",
       "      <td>2</td>\n",
       "    </tr>\n",
       "    <tr>\n",
       "      <th>top</th>\n",
       "      <td>raynaldi setiawan</td>\n",
       "      <td>m</td>\n",
       "    </tr>\n",
       "    <tr>\n",
       "      <th>freq</th>\n",
       "      <td>1</td>\n",
       "      <td>1002</td>\n",
       "    </tr>\n",
       "  </tbody>\n",
       "</table>\n",
       "</div>"
      ],
      "text/plain": [
       "                     name gender\n",
       "count                1795   1795\n",
       "unique               1795      2\n",
       "top     raynaldi setiawan      m\n",
       "freq                    1   1002"
      ]
     },
     "execution_count": 6,
     "metadata": {},
     "output_type": "execute_result"
    }
   ],
   "source": [
    "df.describe()"
   ]
  },
  {
   "cell_type": "code",
   "execution_count": 7,
   "metadata": {
    "colab": {
     "base_uri": "https://localhost:8080/",
     "height": 112
    },
    "id": "A-xVpxk4WCUo",
    "outputId": "d568ad67-4322-405f-ee39-9b9ffc4605b7"
   },
   "outputs": [
    {
     "data": {
      "text/html": [
       "<div>\n",
       "<style scoped>\n",
       "    .dataframe tbody tr th:only-of-type {\n",
       "        vertical-align: middle;\n",
       "    }\n",
       "\n",
       "    .dataframe tbody tr th {\n",
       "        vertical-align: top;\n",
       "    }\n",
       "\n",
       "    .dataframe thead th {\n",
       "        text-align: right;\n",
       "    }\n",
       "</style>\n",
       "<table border=\"1\" class=\"dataframe\">\n",
       "  <thead>\n",
       "    <tr style=\"text-align: right;\">\n",
       "      <th></th>\n",
       "      <th>gender</th>\n",
       "      <th>freq</th>\n",
       "    </tr>\n",
       "  </thead>\n",
       "  <tbody>\n",
       "    <tr>\n",
       "      <th>0</th>\n",
       "      <td>f</td>\n",
       "      <td>793</td>\n",
       "    </tr>\n",
       "    <tr>\n",
       "      <th>1</th>\n",
       "      <td>m</td>\n",
       "      <td>1002</td>\n",
       "    </tr>\n",
       "  </tbody>\n",
       "</table>\n",
       "</div>"
      ],
      "text/plain": [
       "  gender  freq\n",
       "0      f   793\n",
       "1      m  1002"
      ]
     },
     "execution_count": 7,
     "metadata": {},
     "output_type": "execute_result"
    }
   ],
   "source": [
    "df_freq = df.groupby('gender').count()\n",
    "df_freq = df_freq.reset_index()\n",
    "df_freq = df_freq.rename(columns = {'name' : 'freq'})\n",
    "df_freq"
   ]
  },
  {
   "cell_type": "code",
   "execution_count": 8,
   "metadata": {
    "colab": {
     "base_uri": "https://localhost:8080/",
     "height": 559
    },
    "id": "uaUvtYNwVyU8",
    "outputId": "9bf97fe8-5cb4-4306-88a4-cb5300e1cd1f"
   },
   "outputs": [
    {
     "data": {
      "text/plain": [
       "<AxesSubplot:xlabel='gender', ylabel='freq'>"
      ]
     },
     "execution_count": 8,
     "metadata": {},
     "output_type": "execute_result"
    },
    {
     "data": {
      "image/png": "[encoded data removed]",
      "text/plain": [
       "<Figure size 720x432 with 1 Axes>"
      ]
     },
     "metadata": {
      "needs_background": "light"
     },
     "output_type": "display_data"
    }
   ],
   "source": [
    "plt.figure(figsize=(10,6))\n",
    "sns.barplot(x= 'gender', y= 'freq', data= df_freq)"
   ]
  },
  {
   "cell_type": "markdown",
   "metadata": {
    "id": "z8b6fHwOlb7m"
   },
   "source": [
    "# Data Preprocessing"
   ]
  },
  {
   "cell_type": "code",
   "execution_count": 9,
   "metadata": {
    "id": "515VPgjCW5TK"
   },
   "outputs": [],
   "source": [
    "tfidf_vectorizer = TfidfVectorizer()\n",
    "tfidf_matrix = tfidf_vectorizer.fit_transform(df['name'])"
   ]
  },
  {
   "cell_type": "code",
   "execution_count": 11,
   "metadata": {
    "colab": {
     "base_uri": "https://localhost:8080/"
    },
    "id": "Y1kDPk6veePE",
    "outputId": "434e600c-41b3-427d-cdd3-7077d85c7a1f"
   },
   "outputs": [
    {
     "data": {
      "text/plain": [
       "['../models/tfidf_vectorizer_model.pkl']"
      ]
     },
     "execution_count": 11,
     "metadata": {},
     "output_type": "execute_result"
    }
   ],
   "source": [
    "# Save the TfidfVectorizer model\n",
    "joblib.dump(tfidf_vectorizer, '../models/tfidf_vectorizer_model.pkl')"
   ]
  },
  {
   "cell_type": "code",
   "execution_count": 12,
   "metadata": {
    "id": "t-Q1PIzRZexe"
   },
   "outputs": [],
   "source": [
    "# Define features\n",
    "name_vectorized = tfidf_matrix.toarray()"
   ]
  },
  {
   "cell_type": "code",
   "execution_count": 13,
   "metadata": {
    "id": "H1a6MwQSaNEw"
   },
   "outputs": [],
   "source": [
    "# Define labels\n",
    "label_encoder = LabelEncoder()\n",
    "label_encoded = label_encoder.fit_transform(df['gender'])"
   ]
  },
  {
   "cell_type": "markdown",
   "metadata": {
    "id": "snhLtNIQloWm"
   },
   "source": [
    "# Data Splitting"
   ]
  },
  {
   "cell_type": "code",
   "execution_count": 14,
   "metadata": {
    "id": "Pc5UUuD-a940"
   },
   "outputs": [],
   "source": [
    "X_train, X_test, y_train, y_test = train_test_split(name_vectorized, label_encoded, test_size=0.2, random_state=42)"
   ]
  },
  {
   "cell_type": "markdown",
   "metadata": {
    "id": "sB3DyDX1l8Yd"
   },
   "source": [
    "# Hyperparameter Tuning"
   ]
  },
  {
   "cell_type": "markdown",
   "metadata": {
    "id": "HkN1ZYOPlp8d"
   },
   "source": [
    "## Model Training (Logistic Regression, Random Forest, SVM)"
   ]
  },
  {
   "cell_type": "code",
   "execution_count": 55,
   "metadata": {
    "colab": {
     "base_uri": "https://localhost:8080/"
    },
    "id": "dX518XgCb094",
    "outputId": "2c503e96-bd2d-42af-b622-cf8aa9f99a40"
   },
   "outputs": [
    {
     "name": "stdout",
     "output_type": "stream",
     "text": [
      "Best hyperparameters for Logistic Regression: {'C': 10}\n",
      "Accuracy for Logistic Regression: 0.7409470752089137\n",
      "\n",
      "Best hyperparameters for Random Forest: {}\n",
      "Accuracy for Random Forest: 0.6880222841225627\n",
      "\n",
      "Best hyperparameters for SVM: {'C': 100, 'gamma': 0.01}\n",
      "Accuracy for SVM: 0.7465181058495822\n",
      "\n"
     ]
    }
   ],
   "source": [
    "# Define classifiers\n",
    "classifiers = {\n",
    "    'Logistic Regression': LogisticRegression(),\n",
    "    'Random Forest': RandomForestClassifier(),\n",
    "    'SVM': SVC()\n",
    "}\n",
    "\n",
    "# Hyperparameter tuning using GridSearchCV\n",
    "for name, classifier in classifiers.items():\n",
    "    parameters = {}\n",
    "\n",
    "    if isinstance(classifier, LogisticRegression):\n",
    "        parameters = {\n",
    "            'C': [0.001, 0.01, 0.1, 1, 10, 100],  # Adjust hyperparameters as needed\n",
    "        }\n",
    "    elif isinstance(classifier, SVC):\n",
    "        parameters = {\n",
    "            'C': [0.001, 0.01, 0.1, 1, 10, 100],  # Adjust hyperparameters as needed\n",
    "            'gamma': [0.001, 0.01, 0.1, 1, 10, 100]  # For SVM, adjust as needed\n",
    "        }\n",
    "\n",
    "    grid_search = GridSearchCV(classifier, parameters, cv=10)\n",
    "    grid_search.fit(X_train, y_train)\n",
    "\n",
    "    # Print best hyperparameters\n",
    "    print(f\"Best hyperparameters for {name}: {grid_search.best_params_}\")\n",
    "\n",
    "    # Make predictions on the test set\n",
    "    y_pred = grid_search.predict(X_test)\n",
    "\n",
    "    # Calculate accuracy\n",
    "    accuracy = accuracy_score(y_test, y_pred)\n",
    "    print(f\"Accuracy for {name}: {accuracy}\\n\")"
   ]
  },
  {
   "cell_type": "markdown",
   "metadata": {
    "id": "y6Tpkj6ClzsV"
   },
   "source": [
    "## Model Training (Naive Bayes)"
   ]
  },
  {
   "cell_type": "code",
   "execution_count": 58,
   "metadata": {
    "colab": {
     "base_uri": "https://localhost:8080/"
    },
    "id": "zfalyXL0cX8E",
    "outputId": "39768d4c-2276-47b3-8bff-e835233975f1"
   },
   "outputs": [
    {
     "name": "stdout",
     "output_type": "stream",
     "text": [
      "Best hyperparameters for Naive Bayes: {'alpha': 1, 'fit_prior': True}\n",
      "Accuracy for Naive Bayes: 0.7604456824512534\n",
      "\n"
     ]
    }
   ],
   "source": [
    "# Define classifiers\n",
    "classifiers = {\n",
    "    'Naive Bayes': MultinomialNB()\n",
    "}\n",
    "\n",
    "# Hyperparameter tuning using GridSearchCV\n",
    "for name, classifier in classifiers.items():\n",
    "    parameters = {\n",
    "            'alpha': [0.001, 0.01, 0.1, 1, 10, 100],\n",
    "            'fit_prior': [True, False]\n",
    "            }\n",
    "\n",
    "    grid_search = GridSearchCV(classifier, parameters, cv=10)\n",
    "    grid_search.fit(X_train, y_train)\n",
    "\n",
    "    # Print best hyperparameters\n",
    "    print(f\"Best hyperparameters for {name}: {grid_search.best_params_}\")\n",
    "\n",
    "    # Make predictions on the test set\n",
    "    y_pred = grid_search.predict(X_test)\n",
    "\n",
    "    # Calculate accuracy\n",
    "    accuracy = accuracy_score(y_test, y_pred)\n",
    "    print(f\"Accuracy for {name}: {accuracy}\\n\")"
   ]
  },
  {
   "cell_type": "markdown",
   "metadata": {
    "id": "HN_Q8iehl3MN"
   },
   "source": [
    "# Model Training (Best Model)"
   ]
  },
  {
   "cell_type": "code",
   "execution_count": 15,
   "metadata": {
    "colab": {
     "base_uri": "https://localhost:8080/"
    },
    "id": "Di3HWdnjdsC_",
    "outputId": "4cebbc07-6a61-4a34-cd4f-a50e42602b22"
   },
   "outputs": [
    {
     "name": "stdout",
     "output_type": "stream",
     "text": [
      "Final accuracy: 0.7604456824512534\n",
      "\n"
     ]
    }
   ],
   "source": [
    "model = MultinomialNB(alpha=1, fit_prior=True)\n",
    "model.fit(X_train, y_train)\n",
    "y_pred = model.predict(X_test)\n",
    "accuracy = accuracy_score(y_test, y_pred)\n",
    "print(f\"Final accuracy: {accuracy}\\n\")"
   ]
  },
  {
   "cell_type": "code",
   "execution_count": 16,
   "metadata": {
    "colab": {
     "base_uri": "https://localhost:8080/"
    },
    "id": "C7JkADgrjbi7",
    "outputId": "dc883457-4a80-4cff-bec0-4b8e01bff4f9"
   },
   "outputs": [
    {
     "data": {
      "text/plain": [
       "['../models/predictor_model.pkl']"
      ]
     },
     "execution_count": 16,
     "metadata": {},
     "output_type": "execute_result"
    }
   ],
   "source": [
    "# Save the MultinomialNB model\n",
    "joblib.dump(model, '../models/predictor_model.pkl')"
   ]
  },
  {
   "cell_type": "markdown",
   "metadata": {
    "id": "FwNRMOPKmGnM"
   },
   "source": [
    "# Predictor"
   ]
  },
  {
   "cell_type": "code",
   "execution_count": 73,
   "metadata": {
    "id": "YE4UjKRPi2Xk"
   },
   "outputs": [],
   "source": [
    "def predict_gender(name):\n",
    "  name_vectorized = tfidf_vectorizer.transform(name)\n",
    "  pred = model.predict(name_vectorized)\n",
    "  pred_original = label_encoder.inverse_transform(pred)\n",
    "  return pred_original"
   ]
  },
  {
   "cell_type": "code",
   "execution_count": 90,
   "metadata": {
    "colab": {
     "base_uri": "https://localhost:8080/"
    },
    "id": "zFJxQpHZjLb3",
    "outputId": "909fe8ea-cbaf-4467-e314-90f56360ea62"
   },
   "outputs": [
    {
     "name": "stdout",
     "output_type": "stream",
     "text": [
      "Name:  Maryamah Supeni\n",
      "Prediction:  m\n",
      "Label:  f\n",
      "False\n",
      "\n",
      "\n",
      "Name:  Sutejo\n",
      "Prediction:  m\n",
      "Label:  m\n",
      "True\n",
      "\n",
      "\n",
      "Name:  Anugrah Desriana Cahya Dewi\n",
      "Prediction:  f\n",
      "Label:  f\n",
      "True\n",
      "\n",
      "\n",
      "Name:  Linggar Maretva Cendani\n",
      "Prediction:  m\n",
      "Label:  m\n",
      "True\n",
      "\n",
      "\n",
      "Name:  Julia Asyifa Farahdani\n",
      "Prediction:  f\n",
      "Label:  f\n",
      "True\n",
      "\n",
      "\n"
     ]
    }
   ],
   "source": [
    "names = [\n",
    "    \"Maryamah Supeni\",\n",
    "    \"Sutejo\",\n",
    "    \"Anugrah Desriana Cahya Dewi\",\n",
    "    \"Linggar Maretva Cendani\",\n",
    "    \"Julia Asyifa Farahdani\"\n",
    "]\n",
    "\n",
    "labels = [\n",
    "    \"f\",\n",
    "    \"m\",\n",
    "    \"f\",\n",
    "    \"m\",\n",
    "    \"f\"\n",
    "]\n",
    "\n",
    "for i, (pred, label) in enumerate(zip(predict_gender(names), labels)):\n",
    "  print(\"Name: \", names[i])\n",
    "  print(\"Prediction: \", pred)\n",
    "  print(\"Label: \", label)\n",
    "  if pred == label:\n",
    "    print(True)\n",
    "  else:\n",
    "    print(False)\n",
    "  print(\"\\n\")"
   ]
  }
 ],
 "metadata": {
  "colab": {
   "provenance": [],
   "toc_visible": true
  },
  "kernelspec": {
   "display_name": "Python 3",
   "language": "python",
   "name": "python3"
  },
  "language_info": {
   "codemirror_mode": {
    "name": "ipython",
    "version": 3
   },
   "file_extension": ".py",
   "mimetype": "text/x-python",
   "name": "python",
   "nbconvert_exporter": "python",
   "pygments_lexer": "ipython3",
   "version": "3.8.5"
  }
 },
 "nbformat": 4,
 "nbformat_minor": 1
}
